{
 "cells": [
  {
   "cell_type": "markdown",
   "metadata": {},
   "source": [
    "## Export frames from videos\n",
    "Expected folder structure input (video.mp4, video2.mp4 ...)\n",
    "\n",
    "Fill the directory paths and run the function to export every 100th frames from video file and save the frame. "
   ]
  },
  {
   "cell_type": "code",
   "execution_count": 1,
   "metadata": {},
   "outputs": [],
   "source": [
    "import os\n",
    "import cv2"
   ]
  },
  {
   "cell_type": "code",
   "execution_count": 2,
   "metadata": {},
   "outputs": [],
   "source": [
    "input_dir = 'path_to_video_folder'\n",
    "output_dir = 'path_to_output_folder'"
   ]
  },
  {
   "cell_type": "code",
   "execution_count": 3,
   "metadata": {},
   "outputs": [],
   "source": [
    "def video2frame(input_dir, output_dir):\n",
    "    \n",
    "    for index, video in enumerate(os.listdir(input_dir)):\n",
    "        if '.DS_Store' not in video:\n",
    "            video_path = os.path.join(input_dir, video)\n",
    "            video_name = video_path.split(\".\")[0]\n",
    "            videoname = video_name.split(\"/\")[-1]\n",
    "            output_path = os.path.join(output_dir, videoname)\n",
    "            print(output_path)\n",
    "            os.makedirs(output_path, exist_ok=True)\n",
    "\n",
    "            cap = cv2.VideoCapture(video_path)\n",
    "            frame_no = 0\n",
    "\n",
    "            while True:\n",
    "                ok, frame = cap.read()\n",
    "                if ok == False:\n",
    "                    break\n",
    "\n",
    "                frame_no += 1\n",
    "                frame_path = os.path.join(output_path, str(frame_no)+\".png\")\n",
    "                \n",
    "                #Save every 100th frame in the video\n",
    "                if frame_no % 100 == 0:\n",
    "                    cv2.imwrite(frame_path, frame)\n",
    "                else:\n",
    "                    pass\n",
    "\n",
    "\n"
   ]
  },
  {
   "cell_type": "code",
   "execution_count": 4,
   "metadata": {},
   "outputs": [],
   "source": [
    "video2frame(input_dir, output_dir)"
   ]
  },
  {
   "cell_type": "code",
   "execution_count": null,
   "metadata": {},
   "outputs": [],
   "source": []
  }
 ],
 "metadata": {
  "kernelspec": {
   "display_name": "Python 3",
   "language": "python",
   "name": "python3"
  },
  "language_info": {
   "codemirror_mode": {
    "name": "ipython",
    "version": 3
   },
   "file_extension": ".py",
   "mimetype": "text/x-python",
   "name": "python",
   "nbconvert_exporter": "python",
   "pygments_lexer": "ipython3",
   "version": "3.8.5"
  }
 },
 "nbformat": 4,
 "nbformat_minor": 4
}
