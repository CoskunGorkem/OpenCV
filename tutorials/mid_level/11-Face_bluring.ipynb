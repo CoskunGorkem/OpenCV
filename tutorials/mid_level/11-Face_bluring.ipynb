{
 "cells": [
  {
   "cell_type": "code",
   "execution_count": 1,
   "metadata": {},
   "outputs": [],
   "source": [
    "import cv2"
   ]
  },
  {
   "cell_type": "code",
   "execution_count": 2,
   "metadata": {},
   "outputs": [],
   "source": [
    "#Call your Haardcascade\n",
    "face_classifier = cv2.CascadeClassifier('../Haarcascades/haarcascade_frontalface_default.xml')"
   ]
  },
  {
   "cell_type": "code",
   "execution_count": 3,
   "metadata": {},
   "outputs": [],
   "source": [
    "#Use webcam to capture the video\n",
    "cap = cv2.VideoCapture(0)"
   ]
  },
  {
   "cell_type": "code",
   "execution_count": null,
   "metadata": {},
   "outputs": [],
   "source": [
    "while True:\n",
    "    \n",
    "    ok, frame = cap.read()\n",
    "    #Convert bgr color space to gray value\n",
    "    gray = cv2.cvtColor(frame, cv2.COLOR_BGR2GRAY)\n",
    "    h, w = frame.shape[:2]\n",
    "    \n",
    "    # Our classifier returns the ROI of the detected face as a tuple\n",
    "    # It stores the top left coordinate and the bottom right coordiantes\n",
    "    \n",
    "    #detectMultiScale(input_image, Scale_Factor , Min_Neighbors)\n",
    "    faces = face_classifier.detectMultiScale(gray, 1.3, 5)\n",
    "\n",
    "        \n",
    "    kernel_width = (w // 7) | 1\n",
    "    kernel_height = (h // 7) | 1\n",
    "    \n",
    "    for (x,y,w,h) in faces:        \n",
    "        face = frame[y:y+h, x:x+w]\n",
    "        face = cv2.GaussianBlur(face, (kernel_width, kernel_height), 0)\n",
    "        frame[y:y+h, x:x+w] = face\n",
    "    \n",
    "    cv2.imshow('object detection', cv2.resize(frame, (720, 400)))\n",
    "    if cv2.waitKey(1) & 0xFF == ord('q'):\n",
    "        cv2.destroyAllWindows()\n",
    "        break"
   ]
  },
  {
   "cell_type": "code",
   "execution_count": null,
   "metadata": {},
   "outputs": [],
   "source": []
  }
 ],
 "metadata": {
  "kernelspec": {
   "display_name": "Python 3",
   "language": "python",
   "name": "python3"
  },
  "language_info": {
   "codemirror_mode": {
    "name": "ipython",
    "version": 3
   },
   "file_extension": ".py",
   "mimetype": "text/x-python",
   "name": "python",
   "nbconvert_exporter": "python",
   "pygments_lexer": "ipython3",
   "version": "3.8.5"
  }
 },
 "nbformat": 4,
 "nbformat_minor": 4
}
