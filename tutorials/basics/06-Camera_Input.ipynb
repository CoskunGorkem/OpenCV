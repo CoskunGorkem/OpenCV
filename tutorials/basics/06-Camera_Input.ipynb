{
 "cells": [
  {
   "cell_type": "markdown",
   "metadata": {},
   "source": [
    "## In this tutorial we will use our pc camera as input source\n"
   ]
  },
  {
   "cell_type": "code",
   "execution_count": 2,
   "metadata": {},
   "outputs": [],
   "source": [
    "import cv2"
   ]
  },
  {
   "cell_type": "code",
   "execution_count": 3,
   "metadata": {},
   "outputs": [],
   "source": [
    "#You may need to give a permission to termian lto reach out your camera\n",
    "#After giving the permission you can use your device as input image\n",
    "cap = cv2.VideoCapture(0)"
   ]
  },
  {
   "cell_type": "code",
   "execution_count": 6,
   "metadata": {},
   "outputs": [],
   "source": [
    "#by using while loop, you can record a video, analyse individual frames\n",
    "#and edit the frames. \n",
    "#In the following example, we will first read the frames, then\n",
    "#put texts and lines on the frame\n",
    "\n",
    "#For adding a features on the frame please see \"3- Basics_2 tutorial\"\n",
    "\n",
    "i = 0\n",
    "while True:\n",
    "    ret, frame = cap.read()\n",
    "    i +=1\n",
    "    height, width = frame.shape[:2]\n",
    "    #Put text on frames\n",
    "    cv2.putText(frame, \"Frame number: \" +str(i), (10,30), \n",
    "                cv2.FONT_HERSHEY_COMPLEX, 1, (0,0,255), 1)\n",
    "    #Show frames\n",
    "    cv2.imshow('First Camera Example', frame)        \n",
    "    if cv2.waitKey(15) & 0xFF == ord('q'):\n",
    "        cv2.destroyAllWindows()\n",
    "        break\n"
   ]
  },
  {
   "cell_type": "code",
   "execution_count": 7,
   "metadata": {},
   "outputs": [],
   "source": [
    "#Alternative version that uses a dynamic rectangle location. \n",
    "#Rectangle moves within frame number. Which represents, video frames can be editted individually. \n",
    "\n",
    "i = 0\n",
    "while True:\n",
    "    ret, frame = cap.read()\n",
    "    i +=1\n",
    "    height, width = frame.shape[:2]\n",
    "\n",
    "    cv2.putText(frame, \"Frame number: \" +str(i), (10,30), \n",
    "                cv2.FONT_HERSHEY_COMPLEX, 1, (0,0,255), 1)\n",
    "    \n",
    "    \n",
    "    \n",
    "    #put rectangle on frame each frame\n",
    "    cv2.rectangle(frame, (30, 90), (80, 140), 255, -2)\n",
    "    \n",
    "    #put rectangle on frame each frame and change the location based on frame number (i)\n",
    "    cv2.rectangle(frame, (30+i, 30), (80+i, 80), 255, -2)\n",
    "\n",
    "\n",
    "    #show frames\n",
    "    cv2.imshow('First Camera Example', frame)        \n",
    "    if cv2.waitKey(15) & 0xFF == ord('q'):\n",
    "        cv2.destroyAllWindows()\n",
    "        break"
   ]
  },
  {
   "cell_type": "code",
   "execution_count": null,
   "metadata": {},
   "outputs": [],
   "source": []
  }
 ],
 "metadata": {
  "kernelspec": {
   "display_name": "Python 3",
   "language": "python",
   "name": "python3"
  },
  "language_info": {
   "codemirror_mode": {
    "name": "ipython",
    "version": 3
   },
   "file_extension": ".py",
   "mimetype": "text/x-python",
   "name": "python",
   "nbconvert_exporter": "python",
   "pygments_lexer": "ipython3",
   "version": "3.8.5"
  }
 },
 "nbformat": 4,
 "nbformat_minor": 4
}
